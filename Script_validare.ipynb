{
 "cells": [
  {
   "cell_type": "code",
   "execution_count": 15,
   "id": "6addf9da-9334-4952-b3b6-1e74a2e5b4f9",
   "metadata": {},
   "outputs": [
    {
     "name": "stdout",
     "output_type": "stream",
     "text": [
      "Requirement already satisfied: lxml in c:\\users\\florin\\.conda\\envs\\am\\lib\\site-packages (5.2.0)\n",
      "Requirement already satisfied: jsonschema in c:\\users\\florin\\.conda\\envs\\am\\lib\\site-packages (4.21.1)\n",
      "Requirement already satisfied: attrs>=22.2.0 in c:\\users\\florin\\.conda\\envs\\am\\lib\\site-packages (from jsonschema) (23.2.0)\n",
      "Requirement already satisfied: referencing>=0.28.4 in c:\\users\\florin\\.conda\\envs\\am\\lib\\site-packages (from jsonschema) (0.34.0)\n",
      "Requirement already satisfied: jsonschema-specifications>=2023.03.6 in c:\\users\\florin\\.conda\\envs\\am\\lib\\site-packages (from jsonschema) (2023.12.1)\n",
      "Requirement already satisfied: rpds-py>=0.7.1 in c:\\users\\florin\\.conda\\envs\\am\\lib\\site-packages (from jsonschema) (0.18.0)\n"
     ]
    }
   ],
   "source": [
    "!pip install lxml\n",
    "!pip install jsonschema"
   ]
  },
  {
   "cell_type": "code",
   "execution_count": 13,
   "id": "307c5b73-17c3-4ca6-9278-e13a8be3f583",
   "metadata": {},
   "outputs": [
    {
     "name": "stdout",
     "output_type": "stream",
     "text": [
      "✅ Fișierul XML este valid față de schema XSD.\n"
     ]
    }
   ],
   "source": [
    "from lxml import etree\n",
    "\n",
    "# Căile către fișiere\n",
    "xml_path = \"date/sala_fitness.xml\"\n",
    "xsd_path = \"date/sala_fitness.xsd\"\n",
    "\n",
    "# Încarcă fișierele\n",
    "with open(xml_path, 'rb') as xml_file:\n",
    "    xml_doc = etree.parse(xml_file)\n",
    "\n",
    "with open(xsd_path, 'rb') as xsd_file:\n",
    "    xmlschema_doc = etree.parse(xsd_file)\n",
    "\n",
    "# Creează schema și validează\n",
    "schema = etree.XMLSchema(xmlschema_doc)\n",
    "\n",
    "if schema.validate(xml_doc):\n",
    "    print(\"✅ Fișierul XML este valid față de schema XSD.\")\n",
    "else:\n",
    "    print(\"❌ Fișierul XML NU este valid.\")\n",
    "    for error in schema.error_log:\n",
    "        print(f\" - [Linia {error.line}] {error.message}\")\n"
   ]
  },
  {
   "cell_type": "code",
   "execution_count": 17,
   "id": "bb54f58d-31f4-41c8-b92f-c7b96289d55a",
   "metadata": {},
   "outputs": [
    {
     "name": "stdout",
     "output_type": "stream",
     "text": [
      "✅ JSON-ul este valid față de schemă!\n"
     ]
    }
   ],
   "source": [
    "import json\n",
    "from jsonschema import validate, ValidationError, Draft7Validator\n",
    "\n",
    "# Căi către fișiere\n",
    "json_path = \"date/sala_fitness.json\"\n",
    "schema_path = \"date/schema_sala_fitness.json\"\n",
    "\n",
    "# Încarcă fișierele\n",
    "with open(json_path, \"r\", encoding=\"utf-8\") as f:\n",
    "    json_data = json.load(f)\n",
    "\n",
    "with open(schema_path, \"r\", encoding=\"utf-8\") as f:\n",
    "    schema = json.load(f)\n",
    "\n",
    "# Validează\n",
    "validator = Draft7Validator(schema)\n",
    "errors = sorted(validator.iter_errors(json_data), key=lambda e: e.path)\n",
    "\n",
    "if not errors:\n",
    "    print(\"✅ JSON-ul este valid față de schemă!\")\n",
    "else:\n",
    "    print(\"❌ JSON-ul NU este valid. Erori găsite:\")\n",
    "    for error in errors:\n",
    "        path = \".\".join([str(p) for p in error.absolute_path])\n",
    "        print(f\" - {path}: {error.message}\")\n"
   ]
  },
  {
   "cell_type": "code",
   "execution_count": null,
   "id": "aa95836b-31cd-483b-aa25-ed572cae93ee",
   "metadata": {},
   "outputs": [],
   "source": []
  }
 ],
 "metadata": {
  "kernelspec": {
   "display_name": "Python 3 (ipykernel)",
   "language": "python",
   "name": "python3"
  },
  "language_info": {
   "codemirror_mode": {
    "name": "ipython",
    "version": 3
   },
   "file_extension": ".py",
   "mimetype": "text/x-python",
   "name": "python",
   "nbconvert_exporter": "python",
   "pygments_lexer": "ipython3",
   "version": "3.10.2"
  }
 },
 "nbformat": 4,
 "nbformat_minor": 5
}
